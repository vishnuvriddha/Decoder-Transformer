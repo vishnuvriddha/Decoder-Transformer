{
 "cells": [
  {
   "cell_type": "code",
   "execution_count": 4,
   "metadata": {},
   "outputs": [
    {
     "name": "stderr",
     "output_type": "stream",
     "text": [
      "d:\\workplace\\LocalLLM\\myenv\\Lib\\site-packages\\tqdm\\auto.py:21: TqdmWarning: IProgress not found. Please update jupyter and ipywidgets. See https://ipywidgets.readthedocs.io/en/stable/user_install.html\n",
      "  from .autonotebook import tqdm as notebook_tqdm\n"
     ]
    }
   ],
   "source": [
    "# Use a pipeline as a high-level helper\n",
    "from transformers import pipeline\n",
    "import torch\n",
    "import torch.nn.functional as F\n",
    "import pandas as pd\n",
    "import chromadb"
   ]
  },
  {
   "cell_type": "code",
   "execution_count": 128,
   "metadata": {},
   "outputs": [],
   "source": [
    "pipe = pipeline(\"feature-extraction\", model=\"./mitra-english-similarity\")"
   ]
  },
  {
   "cell_type": "markdown",
   "metadata": {},
   "source": [
    "### Inference Example:"
   ]
  },
  {
   "cell_type": "code",
   "execution_count": 112,
   "metadata": {},
   "outputs": [],
   "source": [
    "q1 = \"\"\"tapaḥsvādhyāyanirataṃ tapasvī vāgvidāṃ varam nāradaṃ paripapraccha vālmīkir munipuṃgavam\"\"\"\n",
    "\n",
    "q2 =  \"\"\"tapaḥ svādhyāya niratam tapasvī vāc vidām varam nāradam paripapraccha vālmīkiḥ muni puṃgavam\"\"\""
   ]
  },
  {
   "cell_type": "code",
   "execution_count": 113,
   "metadata": {},
   "outputs": [
    {
     "name": "stdout",
     "output_type": "stream",
     "text": [
      "Cosine Similarity: 0.9583775997161865\n"
     ]
    }
   ],
   "source": [
    "o1 = torch.tensor(pipe.predict(q1)[0])\n",
    "o2 = torch.tensor(pipe.predict(q2)[0])\n",
    "\n",
    "ao1 = torch.mean(o1, dim=0) \n",
    "ao2 = torch.mean(o2, dim=0) \n",
    "\n",
    "cosine_similarity = F.cosine_similarity(ao1.unsqueeze(0), ao2.unsqueeze(0), dim=1)\n",
    "print(f\"Cosine Similarity: {cosine_similarity.item()}\")"
   ]
  },
  {
   "cell_type": "markdown",
   "metadata": {},
   "source": [
    "### Load Ramayana Data:"
   ]
  },
  {
   "cell_type": "code",
   "execution_count": 5,
   "metadata": {},
   "outputs": [
    {
     "name": "stdout",
     "output_type": "stream",
     "text": [
      "18761\n"
     ]
    }
   ],
   "source": [
    "with open('sa_rAmAyaNa.txt', 'r', encoding= 'utf-8') as f:\n",
    "  text = f.readlines()\n",
    "\n",
    "data, codes, buffer = [], [], []\n",
    "for line in text:\n",
    "\n",
    "  buffer.append(line.strip())\n",
    "  if 'R_' in line:\n",
    "\n",
    "    line_r = line.split(' ')\n",
    "    code = line_r[-1]\n",
    "    line_r = line_r[:-1]\n",
    "    line_r = ' '.join(line_r)\n",
    "    codes.append(code)\n",
    "    buffer[-1] = line_r\n",
    "\n",
    "    data.append(' '.join(buffer))\n",
    "    buffer = []\n",
    "\n",
    "data = [line.strip() for line in data]\n",
    "codes = [line.strip() for line in codes]\n",
    "\n",
    "assert len(data) > 18000, 'Incorrect Preprocessing'\n",
    "assert len(data) == len(codes), 'Incorrest Preprocessing'\n",
    "\n",
    "print(len(data))"
   ]
  },
  {
   "cell_type": "code",
   "execution_count": 7,
   "metadata": {},
   "outputs": [],
   "source": [
    "# Create a ChromaDB client and store all embeddings in there\n",
    "\n",
    "client = chromadb.Client()\n",
    "collection = client.create_collection(name=\"sa_VR\")"
   ]
  },
  {
   "cell_type": "code",
   "execution_count": 10,
   "metadata": {},
   "outputs": [
    {
     "data": {
      "text/plain": [
       "torch.Size([18761, 1024])"
      ]
     },
     "execution_count": 10,
     "metadata": {},
     "output_type": "execute_result"
    }
   ],
   "source": [
    "embeds = torch.load('Ramayana_Embeds.pt')\n",
    "embeds.shape"
   ]
  },
  {
   "cell_type": "code",
   "execution_count": 17,
   "metadata": {},
   "outputs": [],
   "source": [
    "for i in range(18761):\n",
    "\n",
    "    collection.add(\n",
    "        ids = codes[i],\n",
    "        documents= data[i],\n",
    "        embeddings= embeds[i, :].tolist()\n",
    "    )"
   ]
  },
  {
   "cell_type": "code",
   "execution_count": 198,
   "metadata": {},
   "outputs": [
    {
     "name": "stdout",
     "output_type": "stream",
     "text": [
      "Query Verse:\n",
      "\n",
      " R_3,036.008: bālo 'py eṣa mahātejāḥ samarthas tasya nigrahe gamiṣye rāmam ādāya svasti te 'stu paraṃtapaḥ\n",
      "-------------------------------\n",
      "0: R_3,036.008: Distance:0.00\n",
      "\t\tbālo 'py eṣa mahātejāḥ samarthas tasya nigrahe gamiṣye rāmam ādāya svasti te 'stu paraṃtapaḥ\n",
      "1: R_3,011.021: Distance:144.11\n",
      "\t\tevam uktvā mahābāhur agastyaṃ sūryavarcasaṃ jagrāha paramaprītas tasya pādau paraṃtapaḥ\n",
      "2: R_4,012.001: Distance:146.68\n",
      "\t\tetac ca vacanaṃ śrutvā sugrīveṇa subhāṣitam pratyayārthaṃ mahātejā rāmo jagrāha kārmukam\n",
      "3: R_7,004.022: Distance:148.65\n",
      "\t\tsaṃdhyāyās tanayāṃ labdhvā vidyutkeśo niśācaraḥ ramate sa tayā sārdhaṃ paulomyā maghavān iva\n",
      "4: R_5,033.080: Distance:149.39\n",
      "\t\thate 'sure saṃyati śambasādane kapipravīreṇa maharṣicodanāt tato 'smi vāyuprabhavo hi maithili prabhāvatas tatpratimaś ca vānaraḥ\n",
      "5: R_6,083.021: Distance:151.61\n",
      "\t\ttasya tad vacanaṃ śrutvā mahāpārśvo 'bravīd vacaḥ balādhyakṣān sthitāṃs tatra balaṃ saṃtvaryatām iti\n",
      "6: R_2,077.023: Distance:154.46\n",
      "\t\tniveśya gaṅgām anu tāṃ mahānadīṃ camūṃ vidhānaiḥ paribarha śobhinīm uvāsa rāmasya tadā mahātmano vicintayāno bharato nivartanam\n",
      "7: R_2,036.015: Distance:154.49\n",
      "\t\tanarthinaḥ sutāḥ strīṇāṃ bhartāro bhrātaras tathā sarve sarvaṃ parityajya rāmam evānvacintayan\n",
      "8: R_7,063.004: Distance:154.69\n",
      "\t\tsa praviśya purīṃ ramyāṃ śrīmān ikṣvākunandanaḥ praviveśa mahābāhur yatra rāmo mahādyutiḥ\n",
      "9: R_5,001.169: Distance:154.73\n",
      "\t\tsamākṣipto 'smi sahasā paṅgūkṛtaparākramaḥ pratilomena vātena mahānaur iva sāgare\n",
      "10: R_3,029.016: Distance:155.35\n",
      "\t\tevam uktvā tato rāmaṃ saṃrudhya bhṛkuṭiṃ tataḥ sa dadarśa mahāsālam avidūre niśācaraḥ\n"
     ]
    }
   ],
   "source": [
    "# Lets\n",
    "N_RESULTS = 10\n",
    "N_RESULTS += 1\n",
    "seed = torch.randint(0, 18761, size = (1, )).item()\n",
    "\n",
    "true_data = data[seed]\n",
    "true_code = codes[seed]\n",
    "\n",
    "print(\"Query Verse:\\n\\n\", f\"{true_code}: {true_data}\")\n",
    "print('-------------------------------')\n",
    "true_embed = embeds[seed, :]\n",
    "\n",
    "# print(\"Query Embed is:\\n\\n\", true_embed)\n",
    "# print('-------------------------------')\n",
    "\n",
    "results = collection.query(\n",
    "  query_embeddings= true_embed.tolist(),\n",
    "  n_results=N_RESULTS\n",
    ")\n",
    "\n",
    "for i in range(N_RESULTS):\n",
    "    print(f\"{i}: {results['ids'][0][i]}: Distance:{results['distances'][0][i]:.2f}\\n\\t\\t{results['documents'][0][i]}\")"
   ]
  }
 ],
 "metadata": {
  "kernelspec": {
   "display_name": "myenv",
   "language": "python",
   "name": "python3"
  },
  "language_info": {
   "codemirror_mode": {
    "name": "ipython",
    "version": 3
   },
   "file_extension": ".py",
   "mimetype": "text/x-python",
   "name": "python",
   "nbconvert_exporter": "python",
   "pygments_lexer": "ipython3",
   "version": "3.12.2"
  }
 },
 "nbformat": 4,
 "nbformat_minor": 2
}
